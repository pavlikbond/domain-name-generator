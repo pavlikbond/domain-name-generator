{
  "cells": [
    {
      "cell_type": "code",
      "execution_count": 1,
      "metadata": {
        "collapsed": true,
        "id": "sX9KSlKdeYus"
      },
      "outputs": [],
      "source": [
        "%%capture\n",
        "!pip install --no-deps bitsandbytes accelerate xformers==0.0.29.post3  peft trl triton\n",
        "!pip install --no-deps unsloth_zoo\n",
        "!pip install sentencepiece protobuf datasets huggingface_hub seaborn matplotlib\n",
        "!pip install --no-deps unsloth"
      ]
    },
    {
      "cell_type": "code",
      "execution_count": null,
      "metadata": {
        "id": "1n4_jcpeeQDS"
      },
      "outputs": [],
      "source": [
        "#imports\n",
        "from google.colab import userdata\n",
        "from huggingface_hub import login\n",
        "from unsloth import FastLanguageModel\n",
        "import torch\n",
        "from google.colab import userdata\n",
        "\n",
        "hf_token = userdata.get('HF_TOKEN')\n",
        "login(token=hf_token)\n",
        "\n",
        "# Choose the model version here\n",
        "#hf_model = \"meta-llama/Llama-3.2-3B\"  # base model\n",
        "#hf_model = \"pashko-bond/Llama-3.2-3B-domains-iteration-1\"\n",
        "#hf_model = \"pashko-bond/Llama-3.2-3B-domains-iteration-2\"\n",
        "hf_model = \"pashko-bond/Llama-3.2-3B-domains-iteration-3\"\n",
        "\n",
        "\n",
        "model, tokenizer = FastLanguageModel.from_pretrained(\n",
        "    model_name=hf_model,\n",
        "    max_seq_length=2048,\n",
        "    dtype=None,  # None defaults to best available (usually float16)\n",
        "    load_in_4bit=False,\n",
        "    token=hf_token,\n",
        ")"
      ]
    },
    {
      "cell_type": "code",
      "execution_count": null,
      "metadata": {
        "id": "Cl_UfEBTjW80"
      },
      "outputs": [],
      "source": [
        "print(f\"Memory footprint: {model.get_memory_footprint() / 1e6:.1f} MB\")"
      ]
    },
    {
      "cell_type": "code",
      "execution_count": 4,
      "metadata": {
        "id": "abGNaeX4godO"
      },
      "outputs": [],
      "source": [
        "# ========================\n",
        "# 3. TESTING SCRIPT\n",
        "# ========================\n",
        "from transformers import TextStreamer\n",
        "import re\n",
        "from evaluate_response import DomainResponseEvaluator\n",
        "from unsloth.chat_templates import get_chat_template\n",
        "\n",
        "tokenizer = get_chat_template(tokenizer, chat_template=\"llama-3.2\")\n",
        "\n",
        "INAPPROPRIATE_CONTENT_TEXT =\"Request contains inappropriate content\"\n",
        "\n",
        "def extract_domains(text_output):\n",
        "    assistant_match = re.search(r'<\\|start_header_id\\|>assistant<\\|end_header_id\\|>', text_output, re.IGNORECASE)\n",
        "    text_to_process = text_output[assistant_match.end():] if assistant_match else text_output\n",
        "\n",
        "    if INAPPROPRIATE_CONTENT_TEXT in text_to_process:\n",
        "        return INAPPROPRIATE_CONTENT_TEXT\n",
        "\n",
        "    text_to_process = re.sub(r'<\\|[^|]*\\|>', ' ', text_to_process)\n",
        "    text_to_process = re.sub(r'\\s+', ' ', text_to_process).strip()\n",
        "\n",
        "    patterns = [\n",
        "        r'\\b([a-zA-Z0-9][a-zA-Z0-9-]*[a-zA-Z0-9]\\.[a-zA-Z]{2,})\\b',\n",
        "        r'\\d+\\.\\s*([a-zA-Z0-9][a-zA-Z0-9-]*[a-zA-Z0-9]\\.[a-zA-Z]{2,})',\n",
        "        r'\\b([a-zA-Z0-9][a-zA-Z0-9-]*[a-zA-Z0-9]\\.(com|net|org|io|dev|games|tech|online))\\b'\n",
        "    ]\n",
        "\n",
        "    domains = []\n",
        "    for pattern in patterns:\n",
        "        matches = re.findall(pattern, text_to_process, re.IGNORECASE)\n",
        "        for match in matches:\n",
        "            domain = match[0] if isinstance(match, tuple) else match\n",
        "            if re.match(r'^[a-zA-Z0-9][a-zA-Z0-9-]*[a-zA-Z0-9]\\.[a-zA-Z]{2,}$', domain) and domain not in domains:\n",
        "                domains.append(domain)\n",
        "\n",
        "    return domains[:5] if domains else 'No domains were found'\n",
        "\n",
        "def create_conversations(data):\n",
        "    return [\n",
        "        [\n",
        "            {\n",
        "                \"role\": \"system\",\n",
        "                \"content\": \"You are a creative assistant that suggests catchy domain names for businesses.\"\n",
        "            },\n",
        "            {\n",
        "                \"role\": \"user\",\n",
        "                \"content\": f\"Generate 3 to 5 creative and memorable domain names for the following business description. Avoid hyphens or numbers. Prioritize .com domains unless a better option fits. Keep names short, brandable, and easy to spell.\\n\\nBusiness Description: {item['business_description']}\"\n",
        "            },\n",
        "        ]\n",
        "        for item in data\n",
        "    ]\n",
        "\n",
        "def get_model_prediction(row):\n",
        "    messages = create_conversations([row])[0]\n",
        "    inputs = tokenizer.apply_chat_template(\n",
        "        messages,\n",
        "        tokenize=True,\n",
        "        add_generation_prompt=True,\n",
        "        return_tensors=\"pt\"\n",
        "    ).to(\"cuda\")\n",
        "\n",
        "    output_ids = model.generate(\n",
        "        input_ids=inputs,\n",
        "        max_new_tokens=64,\n",
        "        use_cache=True,\n",
        "        eos_token_id=tokenizer.convert_tokens_to_ids(\"<|eot_id|>\"),\n",
        "        temperature=1.2,\n",
        "        min_p=0.1\n",
        "    )\n",
        "\n",
        "    generated_tokens = output_ids[0][inputs.shape[-1]:]\n",
        "    response = tokenizer.decode(generated_tokens, skip_special_tokens=False)\n",
        "    response = response.split(\"<|reserved_special_token_\")[0].strip()\n",
        "    domains = extract_domains(response)\n",
        "    return response, domains"
      ]
    },
    {
      "cell_type": "code",
      "execution_count": null,
      "metadata": {
        "id": "yDJyhGBbgrWD"
      },
      "outputs": [],
      "source": [
        "# ========================\n",
        "# 4. RUN EVALUATION\n",
        "# ========================\n",
        "import json\n",
        "import random\n",
        "\n",
        "with open(\"testing.json\", 'r', encoding='utf-8') as f:\n",
        "  testing_data = json.load(f)\n",
        "\n",
        "testing_data = random.sample(testing_data, 15)\n",
        "evaluator = DomainResponseEvaluator()\n",
        "total_confidence = 0.0\n",
        "successful_evaluations = 0\n",
        "scores = []\n",
        "\n",
        "for row in testing_data:\n",
        "    print(f'\\n\\n{\"=\"*60}')\n",
        "    print(f\"Business description: {row['business_description']}\")\n",
        "    response, domains = get_model_prediction(row)\n",
        "    print(f\"Response: {response}\")\n",
        "    print(f\"Domains: {domains}\")\n",
        "    evaluation_results = evaluator.evaluate_domains(row['business_description'], domains)\n",
        "\n",
        "    if evaluation_results:\n",
        "        scores += [r['confidence'] for r in evaluation_results]\n",
        "        case_confidence = sum(result.get('confidence', 0) for result in evaluation_results) / len(evaluation_results)\n",
        "        total_confidence += case_confidence\n",
        "        successful_evaluations += 1\n",
        "        print(f\"  Average confidence: {case_confidence:.3f}\")\n",
        "    else:\n",
        "        print(\"  Evaluation failed\")\n",
        "\n",
        "if successful_evaluations > 0:\n",
        "    print(scores)\n",
        "    average_confidence = total_confidence / successful_evaluations\n",
        "    print(f\"\\n{'='*60}\")\n",
        "    print(f\"TESTING COMPLETE\")\n",
        "    print(f\"Successful evaluations: {successful_evaluations}/{len(testing_data)}\")\n",
        "    print(f\"Average confidence score: {average_confidence:.3f}\")\n",
        "    print(f\"{'='*60}\")\n",
        "else:\n",
        "    print(f\"\\n{'='*60}\")\n",
        "    print(f\"TESTING COMPLETE\")\n",
        "    print(f\"No successful evaluations\")\n",
        "    print(f\"{'='*60}\")"
      ]
    },
    {
      "cell_type": "code",
      "execution_count": null,
      "metadata": {
        "id": "sml2p8WFjeac"
      },
      "outputs": [],
      "source": [
        "import matplotlib.pyplot as plt\n",
        "import seaborn as sns\n",
        "\n",
        "plt.figure(figsize=(8, 4))\n",
        "sns.stripplot(y=scores, jitter=True, color='blue')\n",
        "plt.title(\"LLM Domain Name Scores\")\n",
        "plt.ylabel(\"Score\")\n",
        "plt.yticks([i/10 for i in range(11)])\n",
        "plt.show()"
      ]
    },
    {
      "cell_type": "code",
      "execution_count": 6,
      "metadata": {
        "id": "lGJPlG8fmzeL"
      },
      "outputs": [],
      "source": []
    }
  ],
  "metadata": {
    "accelerator": "GPU",
    "colab": {
      "gpuType": "T4",
      "provenance": []
    },
    "kernelspec": {
      "display_name": "Python 3",
      "name": "python3"
    },
    "language_info": {
      "name": "python"
    }
  },
  "nbformat": 4,
  "nbformat_minor": 0
}
