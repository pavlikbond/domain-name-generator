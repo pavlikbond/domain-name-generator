{
  "cells": [
    {
      "cell_type": "markdown",
      "metadata": {
        "id": "FXyY0QcUYXnt"
      },
      "source": [
        "## Completion finetuning using unsloth"
      ]
    },
    {
      "cell_type": "markdown",
      "metadata": {
        "id": "ZKDw9fld6rJv"
      },
      "source": [
        "This notebook makes use of unsloth to finetune a model for a completion task.\n",
        "In this example we will finetune the llama 3.2 base model to generate domains given a business description."
      ]
    },
    {
      "cell_type": "code",
      "execution_count": 1,
      "metadata": {
        "id": "dFDobMkSXqxw"
      },
      "outputs": [],
      "source": [
        "%%capture\n",
        "!pip install --no-deps bitsandbytes accelerate xformers==0.0.29.post3  peft trl triton\n",
        "!pip install --no-deps cut_cross_entropy unsloth_zoo\n",
        "!pip install sentencepiece protobuf datasets huggingface_hub hf_transfer seaborn matplotlib wandb\n",
        "!pip install --no-deps unsloth"
      ]
    },
    {
      "cell_type": "code",
      "source": [
        "from google.colab import userdata\n",
        "import os\n",
        "import wandb\n",
        "\n",
        "BASE_MODEL = \"meta-llama/Llama-3.2-3B\"\n",
        "PROJECT_NAME = \"domains-iteration-3\"\n",
        "HF_USER = \"pashko-bond\"\n",
        "HUB_MODEL_NAME = f\"{HF_USER}/{PROJECT_NAME}\"\n",
        "INAPPROPRIATE_CONTENT_TEXT =\"Request contains inappropriate content\"\n",
        "\n",
        "wandb_api_key = userdata.get('WANDB_API_KEY')\n",
        "os.environ[\"WANDB_API_KEY\"] = wandb_api_key\n",
        "wandb.login()\n",
        "\n",
        "# Configure Weights & Biases to record against our project\n",
        "os.environ[\"WANDB_PROJECT\"] = PROJECT_NAME\n",
        "os.environ[\"WANDB_LOG_MODEL\"] = \"checkpoint\"\n",
        "os.environ[\"WANDB_WATCH\"] = \"gradients\""
      ],
      "metadata": {
        "id": "ZVw_AaINZUGv"
      },
      "execution_count": null,
      "outputs": []
    },
    {
      "cell_type": "markdown",
      "metadata": {
        "id": "ZN3IUgafYfEu"
      },
      "source": [
        "### Load base model"
      ]
    },
    {
      "cell_type": "code",
      "execution_count": null,
      "metadata": {
        "id": "KKfnUNmFz7ws"
      },
      "outputs": [],
      "source": [
        "from unsloth import FastLanguageModel\n",
        "import torch\n",
        "\n",
        "\n",
        "model, tokenizer = FastLanguageModel.from_pretrained(\n",
        "    model_name=\"meta-llama/Llama-3.2-3B\",\n",
        "    max_seq_length = 2048,\n",
        "    dtype = None,\n",
        "    load_in_4bit = True,\n",
        "    token=userdata.get('HF_TOKEN')\n",
        ")\n"
      ]
    },
    {
      "cell_type": "code",
      "execution_count": null,
      "metadata": {
        "id": "lMrRoR-27rSt"
      },
      "outputs": [],
      "source": [
        "print(f\"Memory footprint: {model.get_memory_footprint() / 1e6:.1f} MB\")"
      ]
    },
    {
      "cell_type": "markdown",
      "metadata": {
        "id": "uRARyu6GYiK1"
      },
      "source": [
        "### Add lora to base model and patch with Unsloth"
      ]
    },
    {
      "cell_type": "code",
      "execution_count": null,
      "metadata": {
        "id": "LYobA8h40U9E"
      },
      "outputs": [],
      "source": [
        "# More info about parameters: https://huggingface.co/docs/peft/v0.11.0/en/package_reference/lora#peft.LoraConfig\n",
        "target_modules =  [\"q_proj\", \"k_proj\", \"v_proj\", \"o_proj\"\n",
        "                   ,\"gate_proj\", \"up_proj\", \"down_proj\"]\n",
        "\n",
        "model = FastLanguageModel.get_peft_model(\n",
        "    model,\n",
        "    r = 8,  # or 16 rank of lora matrices according to paper not much loss when set relatively low\n",
        "    target_modules = target_modules,  # On which modules of the llm the lora weights are used\n",
        "    lora_alpha = 16, # scales the weights of the adapters (more influence on base model)\n",
        "    lora_dropout = 0.05, # unsloth says 0 is better\n",
        "    bias = \"none\",    # \"none\" is optimized\n",
        "    use_gradient_checkpointing = \"unsloth\", #\"unsloth\" for very long context, decreases vram\n",
        "    random_state = 3407,\n",
        "    use_rslora = False,  # scales lora_alpha with 1/sqrt(r), huggingface says this works better\n",
        "    loftq_config = None, # And LoftQ\n",
        ")"
      ]
    },
    {
      "cell_type": "code",
      "source": [
        "import json\n",
        "import pandas as pd\n",
        "from datasets import Dataset\n",
        "from unsloth.chat_templates import get_chat_template\n",
        "import random\n",
        "\n",
        "LOCAL_TRAINING_JSON = \"data.json\"\n",
        "HARMFUL_TRAINING_JSON = \"harmful.json\"\n",
        "\n",
        "# Prepare tokenizer with the appropriate chat template\n",
        "tokenizer = get_chat_template(tokenizer, chat_template=\"llama-3.2\")\n",
        "\n",
        "def process_output(output):\n",
        "    if isinstance(output, list):\n",
        "        return '\\n'.join(output)\n",
        "    elif isinstance(output, str):\n",
        "        return output\n",
        "    else:\n",
        "        return str(output)\n",
        "\n",
        "def create_conversations(data, isTesting=False):\n",
        "    return [\n",
        "        [\n",
        "            {\n",
        "                \"role\": \"system\",\n",
        "                \"content\": \"You are a creative assistant that suggests catchy domain names for businesses.\"\n",
        "            },\n",
        "            {\n",
        "                \"role\": \"user\",\n",
        "                \"content\": f\"Generate 3 to 5 creative and memorable domain names for the following business description. Avoid hyphens or numbers. Prioritize .com domains unless a better option fits. Keep names short, brandable, and easy to spell.\\n\\nBusiness Description: {item['business_description']}\"\n",
        "            },\n",
        "        ] + (\n",
        "            [] if isTesting else [{\n",
        "                \"role\": \"assistant\",\n",
        "                \"content\": process_output(item['output'])\n",
        "            }]\n",
        "        )\n",
        "        for item in data\n",
        "    ]\n",
        "\n",
        "def format_prompt(convos, tokenizer):\n",
        "    texts = [\n",
        "        tokenizer.apply_chat_template(convo, tokenize=False, add_generation_prompt=False)\n",
        "        for convo in convos\n",
        "    ]\n",
        "    return {\"text\": texts}\n",
        "\n",
        "# Load the first file\n",
        "with open(LOCAL_TRAINING_JSON, 'r', encoding='utf-8') as f:\n",
        "    data_local = json.load(f)\n",
        "\n",
        "# Load the second file\n",
        "with open(HARMFUL_TRAINING_JSON, 'r', encoding='utf-8') as f:\n",
        "    data_harmful = json.load(f)\n",
        "data_harmful = random.sample(data_harmful, 150)\n",
        "print(f\"Length of local data: {len(data_local)}\")\n",
        "print(f\"Length of harmful data: {len(data_harmful)}\")\n",
        "# Combine the data from both files\n",
        "data = data_local + data_harmful\n",
        "\n",
        "# Randomize the combined data\n",
        "random.shuffle(data)\n",
        "\n",
        "split_idx = int(len(data) * 0.9)\n",
        "train_raw = data[:split_idx]\n",
        "testing_dataset = data[split_idx:]\n",
        "\n",
        "# Then create conversations from each split\n",
        "train_convos = [create_conversations([item])[0] for item in train_raw]\n",
        "\n",
        "# Format\n",
        "formatted_train = format_prompt(train_convos, tokenizer)\n",
        "# Wrap into Hugging Face datasets\n",
        "training_dataset = Dataset.from_dict(formatted_train)\n",
        "\n",
        "\n",
        "print(f\"Loaded {len(training_dataset)} training examples\")\n",
        "print(\"\\nExample formatted text for training:\")\n",
        "print(training_dataset[0]['text'])\n",
        "print(\"\\nExample formatted text for testing (no assistant):\")"
      ],
      "metadata": {
        "id": "qrrFkEivLBY_"
      },
      "execution_count": null,
      "outputs": []
    },
    {
      "cell_type": "code",
      "execution_count": null,
      "metadata": {
        "id": "4PNMTxya08bi"
      },
      "outputs": [],
      "source": [
        "from trl import SFTTrainer\n",
        "from transformers import TrainingArguments\n",
        "from unsloth import is_bfloat16_supported\n",
        "\n",
        "trainer = SFTTrainer(\n",
        "    model = model,\n",
        "    tokenizer = tokenizer,\n",
        "    train_dataset = training_dataset,\n",
        "    dataset_text_field = \"text\",\n",
        "    max_seq_length = 2048,\n",
        "    dataset_num_proc = 2,\n",
        "    args = TrainingArguments(\n",
        "        per_device_train_batch_size = 4,\n",
        "        gradient_accumulation_steps = 8,\n",
        "        num_train_epochs = 5, # don't go too high prevent overfitting\n",
        "        learning_rate = 2e-4,\n",
        "        fp16 = not is_bfloat16_supported(),\n",
        "        bf16 = is_bfloat16_supported(),\n",
        "        logging_steps = 1,\n",
        "        optim = \"adamw_8bit\",\n",
        "        weight_decay = 0.001,\n",
        "        lr_scheduler_type = \"linear\",\n",
        "        seed = 3407,\n",
        "        output_dir = \"outputs\",\n",
        "        report_to=\"wandb\",\n",
        "        save_strategy=\"steps\",\n",
        "        hub_strategy=\"every_save\",\n",
        "        push_to_hub=True,\n",
        "        hub_model_id=HUB_MODEL_NAME,\n",
        "        hub_private_repo=True,\n",
        "        save_steps=100\n",
        "    ),\n",
        ")"
      ]
    },
    {
      "cell_type": "code",
      "source": [
        "from unsloth.chat_templates import train_on_responses_only\n",
        "\n",
        "trainer = train_on_responses_only(\n",
        "    trainer=trainer,\n",
        "    instruction_part=\"<|start_header_id|>user<|end_header_id|>\\n\\n\",\n",
        "    response_part=\"<|start_header_id|>assistant<|end_header_id|>\\n\\n\",\n",
        ")\n",
        "space = tokenizer(\" \", add_special_tokens=False)[\"input_ids\"][0]\n",
        "tokenizer.decode([space if x == -100 else x for x in trainer.train_dataset[1][\"labels\"]])"
      ],
      "metadata": {
        "id": "LzynyB-KHf0l"
      },
      "execution_count": null,
      "outputs": []
    },
    {
      "cell_type": "code",
      "execution_count": null,
      "metadata": {
        "id": "JzHaVYIP1AKp",
        "collapsed": true
      },
      "outputs": [],
      "source": [
        "trainer_stats = trainer.train()"
      ]
    },
    {
      "cell_type": "markdown",
      "metadata": {
        "id": "7UlSmY8m4grb"
      },
      "source": [
        "## Evaluation"
      ]
    },
    {
      "cell_type": "code",
      "execution_count": null,
      "metadata": {
        "id": "-IqA3IbOcTuz"
      },
      "outputs": [],
      "source": [
        "from transformers import TextStreamer\n",
        "import re\n",
        "from evaluate_response import DomainResponseEvaluator\n",
        "import json\n",
        "import random\n",
        "\n",
        "with open(\"testing.json\", 'r', encoding='utf-8') as f:\n",
        "    testing_data = json.load(f)\n",
        "\n",
        "# Randomize the combined data\n",
        "testing_data = random.sample(testing_data, 15)\n",
        "\n",
        "def extract_domains(text_output):\n",
        " # Find the assistant's response after the header\n",
        "    assistant_match = re.search(r'<\\|start_header_id\\|>assistant<\\|end_header_id\\|>', text_output, re.IGNORECASE)\n",
        "\n",
        "    if assistant_match:\n",
        "        text_to_process = text_output[assistant_match.end():]\n",
        "    else:\n",
        "        text_to_process = text_output\n",
        "\n",
        "    if INAPPROPRIATE_CONTENT_TEXT in text_to_process:\n",
        "        return INAPPROPRIATE_CONTENT_TEXT\n",
        "\n",
        "    # Clean up the text - remove special tokens with spaces to avoid concatenation\n",
        "    text_to_process = re.sub(r'<\\|[^|]*\\|>', ' ', text_to_process)  # Replace special tokens with space\n",
        "    text_to_process = re.sub(r'\\s+', ' ', text_to_process).strip()  # Normalize whitespace\n",
        "\n",
        "    # Multiple domain patterns to catch different formats\n",
        "    patterns = [\n",
        "        r'\\b([a-zA-Z0-9][a-zA-Z0-9-]*[a-zA-Z0-9]\\.[a-zA-Z]{2,})\\b',  # Basic domain pattern (no leading/trailing hyphens)\n",
        "        r'\\d+\\.\\s*([a-zA-Z0-9][a-zA-Z0-9-]*[a-zA-Z0-9]\\.[a-zA-Z]{2,})',  # Numbered list pattern\n",
        "        r'\\b([a-zA-Z0-9][a-zA-Z0-9-]*[a-zA-Z0-9]\\.(com|net|org|io|dev|games|tech|online))\\b'  # Specific TLDs\n",
        "    ]\n",
        "\n",
        "    domains = []\n",
        "    for pattern in patterns:\n",
        "        matches = re.findall(pattern, text_to_process, re.IGNORECASE)\n",
        "        for match in matches:\n",
        "            # Handle tuple results from patterns with groups\n",
        "            domain = match[0] if isinstance(match, tuple) else match\n",
        "            # Additional validation: ensure domain doesn't contain weird characters\n",
        "            if re.match(r'^[a-zA-Z0-9][a-zA-Z0-9-]*[a-zA-Z0-9]\\.[a-zA-Z]{2,}$', domain) and domain not in domains:\n",
        "              domains.append(domain)\n",
        "\n",
        "    # Return the domains found, or a message if none\n",
        "    return domains[:5] if domains else 'No domains were found'\n",
        "\n",
        "\n",
        "def get_model_prediction(row):\n",
        "    messages = create_conversations([row], True)[0]\n",
        "    inputs = tokenizer.apply_chat_template(\n",
        "        messages,\n",
        "        tokenize=True,\n",
        "        add_generation_prompt=True,\n",
        "        return_tensors=\"pt\"\n",
        "    ).to(\"cuda\")\n",
        "\n",
        "    output_ids = model.generate(\n",
        "        input_ids=inputs,\n",
        "        max_new_tokens=64,\n",
        "        use_cache=True,\n",
        "        eos_token_id=tokenizer.convert_tokens_to_ids(\"<|eot_id|>\"),\n",
        "        temperature=1.2,\n",
        "        min_p=0.1\n",
        "    )\n",
        "\n",
        "    # Remove the prompt part from output_ids to get only the new tokens\n",
        "    generated_tokens = output_ids[0][inputs.shape[-1]:]\n",
        "\n",
        "    response = tokenizer.decode(generated_tokens, skip_special_tokens=False)\n",
        "\n",
        "    # Optional cleanup (remove everything after <|eot_id|>)\n",
        "    response = response.split(\"<|reserved_special_token_\")[0].strip()\n",
        "\n",
        "    # Extract domains\n",
        "    domains = extract_domains(response)\n",
        "    return response, domains\n",
        "\n",
        "evaluator = DomainResponseEvaluator()\n",
        "total_confidence = 0.0\n",
        "successful_evaluations = 0\n",
        "scores = []\n",
        "\n",
        "for row in testing_data:\n",
        "  print(f'\\n\\n{\"=\"*60}')\n",
        "  print(f\"Business description: {row['business_description']}\")\n",
        "  response, domains = get_model_prediction(row)\n",
        "  print(f\"Response: {response}\")\n",
        "  print(f\"Domains: {domains}\")\n",
        "  evaluation_results = evaluator.evaluate_domains(row['business_description'], domains)\n",
        "  if evaluation_results:\n",
        "      scores += [r['confidence'] for r in evaluation_results]\n",
        "      # Calculate average confidence for this test case\n",
        "      case_confidence = sum(result.get('confidence', 0) for result in evaluation_results) / len(evaluation_results)\n",
        "      total_confidence += case_confidence\n",
        "      successful_evaluations += 1\n",
        "\n",
        "      print(f\"  Average confidence: {case_confidence:.3f}\")\n",
        "  else:\n",
        "      print(\"  Evaluation failed\")\n",
        "\n",
        "if successful_evaluations > 0:\n",
        "    print(scores)\n",
        "    average_confidence = total_confidence / successful_evaluations\n",
        "    print(f\"\\n{'='*60}\")\n",
        "    print(f\"TESTING COMPLETE\")\n",
        "    print(f\"Successful evaluations: {successful_evaluations}/{len(testing_data)}\")\n",
        "    print(f\"Average confidence score: {average_confidence:.3f}\")\n",
        "    print(f\"{'='*60}\")\n",
        "else:\n",
        "    print(f\"\\n{'='*60}\")\n",
        "    print(f\"TESTING COMPLETE\")\n",
        "    print(f\"No successful evaluations\")\n",
        "    print(f\"{'='*60}\")"
      ]
    },
    {
      "cell_type": "markdown",
      "metadata": {
        "id": "7dsEy_rY6rJ1"
      },
      "source": [
        "### Save lora adapter"
      ]
    },
    {
      "cell_type": "code",
      "source": [
        "import matplotlib.pyplot as plt\n",
        "import seaborn as sns\n",
        "\n",
        "plt.figure(figsize=(8, 4))\n",
        "sns.stripplot(y=scores, jitter=True, color='blue')\n",
        "plt.title(\"LLM Domain Name Scores\")\n",
        "plt.ylabel(\"Score\")\n",
        "plt.yticks([i/10 for i in range(11)])\n",
        "plt.show()"
      ],
      "metadata": {
        "id": "fFl0gSMATfKO"
      },
      "execution_count": null,
      "outputs": []
    },
    {
      "cell_type": "code",
      "execution_count": null,
      "metadata": {
        "id": "HI5Pt3so6rJ1"
      },
      "outputs": [],
      "source": [
        "model.push_to_hub(\n",
        "    \"pashko-bond/Llama-3.2-3B-domains-iteration-3\",\n",
        "    tokenizer,\n",
        "    token = userdata.get('HF_TOKEN')\n",
        ")"
      ]
    },
    {
      "cell_type": "code",
      "execution_count": null,
      "metadata": {
        "id": "PYf_0BGL49WP"
      },
      "outputs": [],
      "source": []
    }
  ],
  "metadata": {
    "accelerator": "GPU",
    "colab": {
      "gpuType": "L4",
      "provenance": []
    },
    "kernelspec": {
      "display_name": "Python 3",
      "name": "python3"
    },
    "language_info": {
      "name": "python"
    }
  },
  "nbformat": 4,
  "nbformat_minor": 0
}